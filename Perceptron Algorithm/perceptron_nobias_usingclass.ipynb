{
 "cells": [
  {
   "cell_type": "code",
   "execution_count": 95,
   "metadata": {},
   "outputs": [],
   "source": [
    "class perceptron:\n",
    "    def __init__(self,w=None,bias=None):\n",
    "        self.w = w\n",
    "        self.bias = bias\n",
    "    \n",
    "    def model(self,x):\n",
    "        f =np.dot(x,self.w)\n",
    "        return f\n",
    "    \n",
    "    def predict(self,x):\n",
    "        f = self.model(x)\n",
    "        y_pred =[]\n",
    "        if f >=0:\n",
    "            pred = 1\n",
    "        else:\n",
    "            pred = -1\n",
    "        y_pred.append(pred)\n",
    "        return np.array(y_pred)\n",
    "    \n",
    "    def fit(self,x,y,epochs,lr):\n",
    "        wt_matrix = []\n",
    "        self.w = np.zeros(len(x[0]))\n",
    "        self.bias = 0\n",
    "        for i in range(epochs):\n",
    "            for x, y in zip(x, y):\n",
    "                f = self.model(x)\n",
    "                y_pred = self.predict(x)\n",
    "                if y*f <= 0:\n",
    "                    self.w = self.w + y*x\n",
    "#                 if y == 1 and y_pred == -1:\n",
    "#                     self.w = self.w + y* x\n",
    "                \n",
    "#                      self.b = self.b - lr *(y_pred -y) 1\n",
    "#                 elif y == -1 and y_pred == 1:\n",
    "#                     self.w = self.w - y* x\n",
    "#                     self.b = self.b + lr * 1\n",
    "\n",
    "            wt_matrix.append(self.w)   \n",
    "            return np.array(wt_matrix)\n",
    "        \n",
    "        "
   ]
  },
  {
   "cell_type": "code",
   "execution_count": 22,
   "metadata": {},
   "outputs": [],
   "source": [
    "import numpy as np\n",
    "import matplotlib\n",
    "from matplotlib import pyplot as plt\n",
    "from sklearn.model_selection import train_test_split"
   ]
  },
  {
   "cell_type": "code",
   "execution_count": 23,
   "metadata": {},
   "outputs": [],
   "source": [
    "x = np.array([\n",
    "     [0.8, 0.1],\n",
    "    [0.7, 0.2],\n",
    "    [0.9, 0.3],\n",
    "    [0.3, 0.8],\n",
    "    [0.1, 0.7],\n",
    "    [0.1,0.9]\n",
    "])\n",
    "y = np.array([-1,-1,-1,1,1,1])\n",
    "colors = ['red', 'blue']"
   ]
  },
  {
   "cell_type": "code",
   "execution_count": 96,
   "metadata": {},
   "outputs": [],
   "source": [
    "x_train, x_test, y_train, y_test = train_test_split(x, y, test_size=0.2, stratify = y, random_state=1)\n",
    "perceptron = perceptron()\n",
    "wt_matrix = perceptron.fit(x, y ,epochs=30, lr =1)\n",
    "y_pred_test = perceptron.predict(y_test)\n"
   ]
  },
  {
   "cell_type": "code",
   "execution_count": 97,
   "metadata": {},
   "outputs": [
    {
     "data": {
      "text/plain": [
       "array([[-0.5,  0.7]])"
      ]
     },
     "execution_count": 97,
     "metadata": {},
     "output_type": "execute_result"
    }
   ],
   "source": [
    "wt_matrix"
   ]
  },
  {
   "cell_type": "code",
   "execution_count": null,
   "metadata": {},
   "outputs": [],
   "source": []
  }
 ],
 "metadata": {
  "kernelspec": {
   "display_name": "Python 3",
   "language": "python",
   "name": "python3"
  },
  "language_info": {
   "codemirror_mode": {
    "name": "ipython",
    "version": 3
   },
   "file_extension": ".py",
   "mimetype": "text/x-python",
   "name": "python",
   "nbconvert_exporter": "python",
   "pygments_lexer": "ipython3",
   "version": "3.7.3"
  }
 },
 "nbformat": 4,
 "nbformat_minor": 2
}
