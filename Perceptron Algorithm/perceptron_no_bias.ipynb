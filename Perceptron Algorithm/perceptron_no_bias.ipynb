{
 "cells": [
  {
   "cell_type": "code",
   "execution_count": 19,
   "metadata": {},
   "outputs": [],
   "source": [
    "import numpy as np\n",
    "import matplotlib\n",
    "from matplotlib import pyplot as plt"
   ]
  },
  {
   "cell_type": "code",
   "execution_count": 20,
   "metadata": {},
   "outputs": [],
   "source": [
    "x = np.array([\n",
    "     [0.8, 0.1],\n",
    "    [0.7, 0.2],\n",
    "    [0.9, 0.3],\n",
    "    [0.3, 0.8],\n",
    "    [0.1, 0.7],\n",
    "    [0.1,0.9]\n",
    "])\n",
    "y = np.array([-1,-1,-1,1,1,1])\n",
    "colors = ['red', 'blue']"
   ]
  },
  {
   "cell_type": "code",
   "execution_count": 21,
   "metadata": {},
   "outputs": [
    {
     "data": {
      "text/plain": [
       "<matplotlib.collections.PathCollection at 0x14468bf6c18>"
      ]
     },
     "execution_count": 21,
     "metadata": {},
     "output_type": "execute_result"
    },
    {
     "data": {
      "image/png": "[encoded data removed]",
      "text/plain": [
       "<Figure size 432x288 with 1 Axes>"
      ]
     },
     "metadata": {
      "needs_background": "light"
     },
     "output_type": "display_data"
    }
   ],
   "source": [
    "plt.scatter(x[:,0],x[:,1],c=y,cmap =matplotlib.colors.ListedColormap(colors))"
   ]
  },
  {
   "cell_type": "code",
   "execution_count": 24,
   "metadata": {},
   "outputs": [],
   "source": [
    "# Perceptron function\n",
    "def perceptron(x, y, z, eta, t):\n",
    "    '''\n",
    "    Input Parameters:\n",
    "        x: data set of input features\n",
    "        y: actual outputs\n",
    "        z: activation function threshold\n",
    "        eta: learning rate\n",
    "        t: number of iterations\n",
    "    '''\n",
    "    \n",
    "    # initializing the weights\n",
    "    w = np.zeros(len(x[0]))      \n",
    "    n = 0                        \n",
    "    \n",
    "    # initializing additional parameters to compute sum-of-squared errors\n",
    "    yhat_vec = np.ones(len(y))     # vector for predictions\n",
    "    errors = np.ones(len(y))       # vector for errors (actual - predictions)\n",
    "    J = []                         # vector for the SSE cost function\n",
    "    missclassification = []\n",
    "    c =0\n",
    "    b =0\n",
    "    while n < t: \n",
    "        for i in range(0, len(x)): # dot product \n",
    "            f = np.dot(x[i], w) # activation function\n",
    "            \n",
    "            if f >= z:                               \n",
    "                yhat =1.                               \n",
    "            else:                                   \n",
    "                yhat = -1.\n",
    "            yhat_vec[i] = yhat\n",
    "            \n",
    "            # updating the \n",
    "            \n",
    "            for j in range(0, len(w)):             \n",
    "                w[j] = w[j] + eta*(y[i]-yhat)*x[i][j]\n",
    "            print(y[i],yhat)\n",
    "            if y[i]!=yhat:\n",
    "                     b += 1\n",
    "                     c = b\n",
    "            else:\n",
    "                    c = 0\n",
    "            missclassification.append(c)\n",
    "            n += 1\n",
    "                   \n",
    "           \n",
    "           # computing the sum-of-squared errors\n",
    "        for i in range(0,len(y)):     \n",
    "            errors[i] = (y[i]-yhat_vec[i])**2\n",
    "            J.append(0.5*np.sum(errors))\n",
    "        \n",
    "    return w,J,missclassification,n"
   ]
  },
  {
   "cell_type": "code",
   "execution_count": 25,
   "metadata": {},
   "outputs": [
    {
     "name": "stdout",
     "output_type": "stream",
     "text": [
      "-1 1.0\n",
      "-1 -1.0\n",
      "-1 -1.0\n",
      "1 -1.0\n",
      "1 1.0\n",
      "1 1.0\n",
      "-1 -1.0\n",
      "-1 -1.0\n",
      "-1 -1.0\n",
      "1 1.0\n",
      "1 1.0\n",
      "1 1.0\n",
      "The weights are: [-0.5  0.7]\n",
      "The errors are: [4.5, 4.0, 3.5, 5.0, 4.5, 4.0, 2.0, 2.0, 2.0, 0.0, 0.0, 0.0]\n"
     ]
    }
   ],
   "source": [
    "z = 0.0\n",
    "eta = 0.5\n",
    "t = 7\n",
    "w,J,missclassification,n=perceptron(x, y, z, eta, t)\n",
    "print(\"The weights are:\",w)\n",
    "\n",
    "#print(perceptron(x, y, z, eta, t)[0])\n",
    "print(\"The errors are:\",J)\n",
    "#print(perceptron(x, y, z, eta, t)[0])\n",
    "\n"
   ]
  },
  {
   "cell_type": "code",
   "execution_count": null,
   "metadata": {},
   "outputs": [],
   "source": []
  },
  {
   "cell_type": "code",
   "execution_count": null,
   "metadata": {},
   "outputs": [],
   "source": []
  },
  {
   "cell_type": "code",
   "execution_count": null,
   "metadata": {},
   "outputs": [],
   "source": []
  }
 ],
 "metadata": {
  "kernelspec": {
   "display_name": "Python 3",
   "language": "python",
   "name": "python3"
  },
  "language_info": {
   "codemirror_mode": {
    "name": "ipython",
    "version": 3
   },
   "file_extension": ".py",
   "mimetype": "text/x-python",
   "name": "python",
   "nbconvert_exporter": "python",
   "pygments_lexer": "ipython3",
   "version": "3.7.3"
  }
 },
 "nbformat": 4,
 "nbformat_minor": 2
}
