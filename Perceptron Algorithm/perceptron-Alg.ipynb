{
 "cells": [
  {
   "cell_type": "code",
   "execution_count": 1,
   "metadata": {},
   "outputs": [],
   "source": [
    "import numpy as np\n",
    "import matplotlib\n",
    "from matplotlib import pyplot as plt"
   ]
  },
  {
   "cell_type": "code",
   "execution_count": 2,
   "metadata": {},
   "outputs": [],
   "source": [
    "training_inputs = np.array([\n",
    "     [0.8, 0.1],\n",
    "    [0.7, 0.2],\n",
    "    [0.9, 0.3],\n",
    "    [0.3, 0.8],\n",
    "    [0.1, 0.7],\n",
    "    [0.1,0.9]\n",
    "])\n",
    "labels = np.array([-1,-1,-1,1,1,1])\n",
    "colors = ['red', 'blue']"
   ]
  },
  {
   "cell_type": "code",
   "execution_count": 4,
   "metadata": {},
   "outputs": [
    {
     "data": {
      "text/plain": [
       "<matplotlib.collections.PathCollection at 0x254878e1cc0>"
      ]
     },
     "execution_count": 4,
     "metadata": {},
     "output_type": "execute_result"
    },
    {
     "data": {
      "image/png": "[encoded data removed]",
      "text/plain": [
       "<Figure size 432x288 with 1 Axes>"
      ]
     },
     "metadata": {
      "needs_background": "light"
     },
     "output_type": "display_data"
    }
   ],
   "source": [
    "plt.scatter(training_inputs[:,0],training_inputs[:,1],c=labels,cmap =matplotlib.colors.ListedColormap(colors))"
   ]
  },
  {
   "cell_type": "code",
   "execution_count": 18,
   "metadata": {},
   "outputs": [],
   "source": []
  },
  {
   "cell_type": "code",
   "execution_count": 23,
   "metadata": {},
   "outputs": [
    {
     "name": "stdout",
     "output_type": "stream",
     "text": [
      "not converged yet!\n",
      "[-0.8 -0.1]\n",
      "not converged yet!\n",
      "[-0.5  0.7]\n",
      "converged!\n"
     ]
    }
   ],
   "source": [
    "#initialize weights\n",
    "d = np.shape(training_inputs)[1]\n",
    "w = np.zeros(d)\n",
    "\n",
    "#Algorithm\n",
    "while(any([element <= 0 for element in [labels[ind]*np.dot(w,x) for ind,x in enumerate(training_inputs)] ])):    \n",
    "     print(\"not converged yet!\")\n",
    "     mistakes = np.where([element<=0 for element in [labels[ind]*np.dot(w,x) for ind,x in enumerate(training_inputs)] ])[0]\n",
    "     misclass = np.min(mistakes)\n",
    "     w = w + labels[misclass]*training_inputs[misclass]         \n",
    "     print(w)\n",
    "print(\"converged!\")"
   ]
  },
  {
   "cell_type": "code",
   "execution_count": 28,
   "metadata": {},
   "outputs": [
    {
     "data": {
      "text/plain": [
       "array([0.        , 0.01457726, 0.02915452, 0.04373178, 0.05830904,\n",
       "       0.0728863 , 0.08746356, 0.10204082, 0.11661808, 0.13119534,\n",
       "       0.14577259, 0.16034985, 0.17492711, 0.18950437, 0.20408163,\n",
       "       0.21865889, 0.23323615, 0.24781341, 0.26239067, 0.27696793,\n",
       "       0.29154519, 0.30612245, 0.32069971, 0.33527697, 0.34985423,\n",
       "       0.36443149, 0.37900875, 0.39358601, 0.40816327, 0.42274052,\n",
       "       0.43731778, 0.45189504, 0.4664723 , 0.48104956, 0.49562682,\n",
       "       0.51020408, 0.52478134, 0.5393586 , 0.55393586, 0.56851312,\n",
       "       0.58309038, 0.59766764, 0.6122449 , 0.62682216, 0.64139942,\n",
       "       0.65597668, 0.67055394, 0.6851312 , 0.69970845, 0.71428571])"
      ]
     },
     "execution_count": 28,
     "metadata": {},
     "output_type": "execute_result"
    },
    {
     "data": {
      "image/png": "[encoded data removed]",
      "text/plain": [
       "<Figure size 432x288 with 1 Axes>"
      ]
     },
     "metadata": {
      "needs_background": "light"
     },
     "output_type": "display_data"
    }
   ],
   "source": [
    "#plot the seperator\n",
    "a = -w[0] / w[1]\n",
    "xx = np.linspace(0, 1)\n",
    "yy = a * xx - (0) / w[1] \n",
    "plt.plot(xx,yy)\n",
    "plt.scatter(training_inputs[:,0],training_inputs[:,1],c=labels, cmap=matplotlib.colors.ListedColormap(colors))\n",
    "plt.xlim([0.0, 1.0])\n",
    "plt.ylim([0.0, 1.0])\n",
    "plt.title(\"perceptron\")\n",
    "plt.xlabel(\"x1\")\n",
    "plt.ylabel(\"x2\")\n",
    "yy"
   ]
  },
  {
   "cell_type": "code",
   "execution_count": 29,
   "metadata": {},
   "outputs": [
    {
     "data": {
      "text/plain": [
       "array([[0.8, 0.1, 1. ],\n",
       "       [0.7, 0.2, 1. ],\n",
       "       [0.9, 0.3, 1. ],\n",
       "       [0.3, 0.8, 1. ],\n",
       "       [0.1, 0.7, 1. ],\n",
       "       [0.1, 0.9, 1. ],\n",
       "       [0.4, 0.4, 1. ]])"
      ]
     },
     "execution_count": 29,
     "metadata": {},
     "output_type": "execute_result"
    }
   ],
   "source": [
    "#add new point[0.4,0.4] with label -1 to training_inputs and consider bias term also\n",
    "training_inputs =  np.vstack((training_inputs, [0.4,0.4]))\n",
    "labels = np.append(labels, -1)\n",
    "training_inputs_ext = np.hstack((training_inputs,np.ones((np.shape(training_inputs)[0],1))))\n",
    "d = np.shape(training_inputs_ext)[1]\n",
    "w = np.zeros(d)\n",
    "training_inputs_ext"
   ]
  },
  {
   "cell_type": "code",
   "execution_count": 30,
   "metadata": {},
   "outputs": [
    {
     "name": "stdout",
     "output_type": "stream",
     "text": [
      "not converged yet!\n",
      "[-0.8 -0.1 -1. ]\n",
      "number of true positives:  0\n",
      "not converged yet!\n",
      "[-0.5  0.7  0. ]\n",
      "number of true positives:  3\n",
      "not converged yet!\n",
      "[-0.9  0.3 -1. ]\n",
      "number of true positives:  0\n",
      "not converged yet!\n",
      "[-0.6  1.1  0. ]\n",
      "number of true positives:  3\n",
      "not converged yet!\n",
      "[-1.   0.7 -1. ]\n",
      "number of true positives:  0\n",
      "not converged yet!\n",
      "[-0.7  1.5  0. ]\n",
      "number of true positives:  3\n",
      "not converged yet!\n",
      "[-1.1  1.1 -1. ]\n",
      "number of true positives:  0\n",
      "not converged yet!\n",
      "[-0.8  1.9  0. ]\n",
      "number of true positives:  3\n",
      "not converged yet!\n",
      "[-1.2  1.5 -1. ]\n",
      "number of true positives:  1\n",
      "not converged yet!\n",
      "[-0.9  2.3  0. ]\n",
      "number of true positives:  3\n",
      "not converged yet!\n",
      "[-1.3  1.9 -1. ]\n",
      "number of true positives:  3\n",
      "converged!\n"
     ]
    }
   ],
   "source": [
    "while(any([element<=0 for element in [labels[ind]*np.dot(w,x) for ind,x in enumerate(training_inputs_ext)] ])):    \n",
    "     print(\"not converged yet!\")\n",
    "     mistakes = np.where([element<=0 for element in [labels[ind]*np.dot(w,x) for ind,x in enumerate(training_inputs_ext)] ])[0]\n",
    "     misclass = np.min(mistakes)\n",
    "     w = w + labels[misclass]*training_inputs_ext[misclass]\n",
    "     print(w)\n",
    "     pred_labels = [1 if x>0 else -1 for x in [np.dot(w,x) for x in training_inputs_ext]]\n",
    "     tp = np.sum(np.logical_and(np.asarray(pred_labels) == 1, np.asarray(labels) == 1))\n",
    "     print(\"number of true positives: \",tp)\n",
    "print(\"converged!\")"
   ]
  },
  {
   "cell_type": "code",
   "execution_count": 31,
   "metadata": {},
   "outputs": [
    {
     "data": {
      "text/plain": [
       "Text(0, 0.5, 'x2')"
      ]
     },
     "execution_count": 31,
     "metadata": {},
     "output_type": "execute_result"
    },
    {
     "data": {
      "image/png": "[encoded data removed]",
      "text/plain": [
       "<Figure size 432x288 with 1 Axes>"
      ]
     },
     "metadata": {
      "needs_background": "light"
     },
     "output_type": "display_data"
    }
   ],
   "source": [
    "\n",
    "a = -w[0] / w[1]\n",
    "xx = np.linspace(0, 1)\n",
    "yy = a * xx - (w[2]) / w[1] \n",
    "plt.plot(xx,yy)\n",
    "plt.scatter(training_inputs_ext[:,0],training_inputs_ext[:,1],c=labels, cmap=matplotlib.colors.ListedColormap(colors))\n",
    "plt.xlim([0.0, 1.0])\n",
    "plt.ylim([0.0, 1.0])\n",
    "plt.title(\"perceptron\")\n",
    "plt.xlabel(\"x1\")\n",
    "plt.ylabel(\"x2\")"
   ]
  },
  {
   "cell_type": "code",
   "execution_count": null,
   "metadata": {},
   "outputs": [],
   "source": []
  }
 ],
 "metadata": {
  "kernelspec": {
   "display_name": "Python 3",
   "language": "python",
   "name": "python3"
  },
  "language_info": {
   "codemirror_mode": {
    "name": "ipython",
    "version": 3
   },
   "file_extension": ".py",
   "mimetype": "text/x-python",
   "name": "python",
   "nbconvert_exporter": "python",
   "pygments_lexer": "ipython3",
   "version": "3.7.3"
  }
 },
 "nbformat": 4,
 "nbformat_minor": 2
}
