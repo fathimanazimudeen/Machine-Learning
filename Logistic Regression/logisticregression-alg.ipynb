{
 "cells": [
  {
   "cell_type": "code",
   "execution_count": 1,
   "metadata": {},
   "outputs": [],
   "source": [
    "import numpy as np"
   ]
  },
  {
   "cell_type": "code",
   "execution_count": 2,
   "metadata": {},
   "outputs": [],
   "source": [
    "X=np.array([[0.8, 0.1], [0.7, 0.2], [0.9, 0.3], [0.3, 0.8], [0.1, 0.7], [0.1, 0.9],[0.4,0.4]])\n",
    "y=np.array([-1,-1,-1,+1,+1,+1,-1])\n",
    "m,n=X.shape\n",
    "w=np.zeros(n)\n",
    "eta=0.01\n",
    "niter=1000"
   ]
  },
  {
   "cell_type": "code",
   "execution_count": 3,
   "metadata": {},
   "outputs": [
    {
     "name": "stdout",
     "output_type": "stream",
     "text": [
      "number of true positives: 3\n",
      "number of true positives: 3\n",
      "number of true positives: 0\n"
     ]
    }
   ],
   "source": [
    "def cost_func(X,y,w):\n",
    "    cost = 0\n",
    "    for j in range(m):\n",
    "        cost+=np.log(1+np.exp(-y[j]*np.dot(w,X[j])))\n",
    "    return (1.0/m)*cost\n",
    "for t in range(niter):\n",
    "  ## to compute the sum of component wise gradient, slide 23\n",
    "  JD=0\n",
    "  for i in range(m):\n",
    "    #print(i)\n",
    "    JD+=-(1/(1+np.exp(+y[i]*np.dot(w,X[i])))*y[i]*X[i])\n",
    "    #print (\"JD\",JD)\n",
    "  norm_JD = JD/float(m)\n",
    "  w=w-eta*norm_JD\n",
    "#print(\"w\",w,np.linalg.norm(w))\n",
    "\n",
    "for th in (0.5,0.3,0.8):\n",
    "    ypred=np.zeros(m)\n",
    "    for i in range(m):\n",
    "        ypred[i]=1/(1+np.exp(-np.dot(w,X[i])))\n",
    "    yp=np.sign(1*(ypred>=th))\n",
    "    tp = np.sum(np.logical_and(np.asarray(yp) == 1, np.asarray(y) == 1))\n",
    "    print(\"number of true positives:\" , tp)"
   ]
  },
  {
   "cell_type": "code",
   "execution_count": null,
   "metadata": {},
   "outputs": [],
   "source": []
  }
 ],
 "metadata": {
  "kernelspec": {
   "display_name": "Python 3",
   "language": "python",
   "name": "python3"
  },
  "language_info": {
   "codemirror_mode": {
    "name": "ipython",
    "version": 3
   },
   "file_extension": ".py",
   "mimetype": "text/x-python",
   "name": "python",
   "nbconvert_exporter": "python",
   "pygments_lexer": "ipython3",
   "version": "3.7.3"
  }
 },
 "nbformat": 4,
 "nbformat_minor": 2
}
